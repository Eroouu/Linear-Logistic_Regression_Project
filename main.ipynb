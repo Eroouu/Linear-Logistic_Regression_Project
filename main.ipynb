{
 "cells": [
  {
   "cell_type": "code",
   "execution_count": 1,
   "metadata": {},
   "outputs": [
    {
     "name": "stdout",
     "output_type": "stream",
     "text": [
      "Hello\n"
     ]
    }
   ],
   "source": [
    "print('Hello')"
   ]
  },
  {
   "cell_type": "code",
   "execution_count": 40,
   "metadata": {},
   "outputs": [],
   "source": [
    "import pandas as pd\n",
    "from sklearn.linear_model import LinearRegression\n",
    "from sklearn.metrics import mean_squared_error, r2_score\n",
    "import matplotlib.pyplot as plt"
   ]
  },
  {
   "cell_type": "code",
   "execution_count": 41,
   "metadata": {},
   "outputs": [
    {
     "name": "stdout",
     "output_type": "stream",
     "text": [
      "   ID     crim    zn  indus  chas    nox     rm   age     dis  rad  tax  \\\n",
      "0   1  0.00632  18.0   2.31     0  0.538  6.575  65.2  4.0900    1  296   \n",
      "1   2  0.02731   0.0   7.07     0  0.469  6.421  78.9  4.9671    2  242   \n",
      "2   4  0.03237   0.0   2.18     0  0.458  6.998  45.8  6.0622    3  222   \n",
      "3   5  0.06905   0.0   2.18     0  0.458  7.147  54.2  6.0622    3  222   \n",
      "4   7  0.08829  12.5   7.87     0  0.524  6.012  66.6  5.5605    5  311   \n",
      "\n",
      "   ptratio   black  lstat  medv  \n",
      "0     15.3  396.90   4.98  24.0  \n",
      "1     17.8  396.90   9.14  21.6  \n",
      "2     18.7  394.63   2.94  33.4  \n",
      "3     18.7  396.90   5.33  36.2  \n",
      "4     15.2  395.60  12.43  22.9  \n"
     ]
    }
   ],
   "source": [
    "train_data = pd.read_csv('train.csv')\n",
    "test_data = pd.read_csv('test.csv')\n",
    "test_medv = pd.read_csv('submission_example.csv')\n",
    "print(train_data.head())"
   ]
  },
  {
   "cell_type": "code",
   "execution_count": 42,
   "metadata": {},
   "outputs": [
    {
     "name": "stdout",
     "output_type": "stream",
     "text": [
      "   ID     crim    zn  indus  chas    nox     rm   age     dis  rad  tax  \\\n",
      "0   1  0.00632  18.0   2.31     0  0.538  6.575  65.2  4.0900    1  296   \n",
      "1   2  0.02731   0.0   7.07     0  0.469  6.421  78.9  4.9671    2  242   \n",
      "2   4  0.03237   0.0   2.18     0  0.458  6.998  45.8  6.0622    3  222   \n",
      "3   5  0.06905   0.0   2.18     0  0.458  7.147  54.2  6.0622    3  222   \n",
      "4   7  0.08829  12.5   7.87     0  0.524  6.012  66.6  5.5605    5  311   \n",
      "\n",
      "   ptratio   black  lstat  medv  \n",
      "0     15.3  396.90   4.98  24.0  \n",
      "1     17.8  396.90   9.14  21.6  \n",
      "2     18.7  394.63   2.94  33.4  \n",
      "3     18.7  396.90   5.33  36.2  \n",
      "4     15.2  395.60  12.43  22.9  \n"
     ]
    }
   ],
   "source": [
    "print(train_data.head())\n"
   ]
  },
  {
   "cell_type": "markdown",
   "metadata": {},
   "source": [
    "Оставляем все столбцы, кроме последних двух (например, 'medv  medv_class')"
   ]
  },
  {
   "cell_type": "code",
   "execution_count": 58,
   "metadata": {},
   "outputs": [
    {
     "name": "stdout",
     "output_type": "stream",
     "text": [
      "   ID     crim    zn  indus  chas    nox     rm   age     dis  rad  tax  \\\n",
      "0   1  0.00632  18.0   2.31     0  0.538  6.575  65.2  4.0900    1  296   \n",
      "1   2  0.02731   0.0   7.07     0  0.469  6.421  78.9  4.9671    2  242   \n",
      "2   4  0.03237   0.0   2.18     0  0.458  6.998  45.8  6.0622    3  222   \n",
      "3   5  0.06905   0.0   2.18     0  0.458  7.147  54.2  6.0622    3  222   \n",
      "4   7  0.08829  12.5   7.87     0  0.524  6.012  66.6  5.5605    5  311   \n",
      "\n",
      "   ptratio   black  lstat  \n",
      "0     15.3  396.90   4.98  \n",
      "1     17.8  396.90   9.14  \n",
      "2     18.7  394.63   2.94  \n",
      "3     18.7  396.90   5.33  \n",
      "4     15.2  395.60  12.43  \n"
     ]
    }
   ],
   "source": [
    "X_train = train_data.iloc[:, :-1]\n",
    "print(X_train.head())"
   ]
  },
  {
   "cell_type": "code",
   "execution_count": 59,
   "metadata": {},
   "outputs": [
    {
     "name": "stdout",
     "output_type": "stream",
     "text": [
      "0    24.0\n",
      "1    21.6\n",
      "2    33.4\n",
      "3    36.2\n",
      "4    22.9\n",
      "Name: medv, dtype: float64\n"
     ]
    }
   ],
   "source": [
    "y_train = train_data['medv']\n",
    "print(y_train.head())"
   ]
  },
  {
   "cell_type": "code",
   "execution_count": 60,
   "metadata": {},
   "outputs": [
    {
     "data": {
      "text/plain": [
       "LinearRegression()"
      ]
     },
     "execution_count": 60,
     "metadata": {},
     "output_type": "execute_result"
    }
   ],
   "source": [
    "model = LinearRegression()\n",
    "model.fit(X_train, y_train)"
   ]
  },
  {
   "cell_type": "code",
   "execution_count": 61,
   "metadata": {},
   "outputs": [
    {
     "name": "stdout",
     "output_type": "stream",
     "text": [
      "   ID     crim    zn  indus  chas    nox     rm    age     dis  rad  tax  \\\n",
      "0   3  0.02729   0.0   7.07     0  0.469  7.185   61.1  4.9671    2  242   \n",
      "1   6  0.02985   0.0   2.18     0  0.458  6.430   58.7  6.0622    3  222   \n",
      "2   8  0.14455  12.5   7.87     0  0.524  6.172   96.1  5.9505    5  311   \n",
      "3   9  0.21124  12.5   7.87     0  0.524  5.631  100.0  6.0821    5  311   \n",
      "4  10  0.17004  12.5   7.87     0  0.524  6.004   85.9  6.5921    5  311   \n",
      "\n",
      "   ptratio   black  lstat  \n",
      "0     17.8  392.83   4.03  \n",
      "1     18.7  394.12   5.21  \n",
      "2     15.2  396.90  19.15  \n",
      "3     15.2  386.63  29.93  \n",
      "4     15.2  386.71  17.10  \n"
     ]
    }
   ],
   "source": [
    "X_test = test_data\n",
    "print(X_test.head())"
   ]
  },
  {
   "cell_type": "code",
   "execution_count": 62,
   "metadata": {},
   "outputs": [],
   "source": [
    "y_pred = model.predict(X_test)"
   ]
  },
  {
   "cell_type": "code",
   "execution_count": 63,
   "metadata": {},
   "outputs": [
    {
     "name": "stdout",
     "output_type": "stream",
     "text": [
      "[31.27947429 25.64467092 18.66939919  9.70469293 18.18776827 17.25721236\n",
      " 19.17726072 15.73496669 13.24982207 15.5718257  19.86982974 21.36318328\n",
      "  7.7493535  14.12561852 24.37918489 22.78142834 23.92830169 28.95121883\n",
      "  6.98337459 28.13150174 21.49340364 24.3633102  21.0157493  22.27629255\n",
      " 21.48174445 23.1349735  26.53357032 27.40764862 29.63245149 28.66678691\n",
      " 36.01716279 35.76571544 32.41445524 21.78926285 18.52394786 21.24472516\n",
      " 20.6427661  20.48508635 20.22964004 22.77639638 14.56069361 20.93906783\n",
      " 21.03828501 17.81868028 13.61749515 12.01152334  8.28275913 15.72540189\n",
      " 18.82390015 21.90036804 21.23938497 33.93579311 42.64212385 26.35818872\n",
      " 21.59393999 23.90512336 32.5148109  40.69463756 35.37480505 33.69092227\n",
      " 30.03049353 36.9894938  16.80662396 16.43691169 22.36650512 23.20489902\n",
      " 24.48558839 28.03618599 24.99532562 30.30865301 33.95889669 36.21532845\n",
      " 33.26842371 32.7474714  28.15040973 27.84890977 22.50614817 11.72942872\n",
      " 18.7289378  24.97332512 22.81780728 20.4509287  37.07435916 43.1055419\n",
      " 35.82221901 34.36547669 40.32869429 25.76665182 21.44617016 33.75974044\n",
      " 36.30540749 35.86207195 30.07563835 38.0136434  26.24887085 25.97476499\n",
      " 34.45631846 23.49068134 27.93672991 28.17209784 31.14205064 29.55165528\n",
      " 32.15500672 24.98969663 24.75699824 20.52775576 24.45813237 22.39777105\n",
      " 18.37288143 23.45131801 23.56424093 18.47099872 22.16734625 20.03037508\n",
      " 18.26667555 14.93395027 12.90381933 19.13267722 19.14788736 23.75796975\n",
      " 13.23130064 15.71751006 20.20949346 22.62717375 40.71394307 35.71662841\n",
      " 27.48271881 17.37634063 18.13753457 20.16236138 19.73442388  8.60507643\n",
      "  6.72871965 18.20656109 21.53157413 21.41118361 17.12289685 11.11757318\n",
      " 19.09316778  9.42652001 12.10794237  9.0796385  20.28705763 17.94058339\n",
      " 16.86029979  0.70793421 12.93354788 20.72532265 18.98479399 19.50978417\n",
      " 12.47302689 16.73856356 18.0825572  13.33688087 14.88302852  4.09657413\n",
      " 18.26116323 17.61625799 16.28686208 15.06291895 12.17527143 20.45916\n",
      " 26.54112002 15.63020939 29.56808364 23.04825946  6.73078363 19.66151208\n",
      " 15.67530917 12.07186728 20.14956381 19.04378872 25.09918978]\n"
     ]
    }
   ],
   "source": [
    "print(y_pred)"
   ]
  },
  {
   "cell_type": "code",
   "execution_count": 65,
   "metadata": {},
   "outputs": [],
   "source": [
    "df = pd.DataFrame(y_pred, columns=[\"medv\"])\n",
    "df.to_csv(\"output_1.csv\", index=False)"
   ]
  },
  {
   "cell_type": "markdown",
   "metadata": {},
   "source": [
    "Мы сделали предсказание цены на основе обучающей выборки с помощью линейной регрессии "
   ]
  },
  {
   "cell_type": "markdown",
   "metadata": {},
   "source": [
    "Давайте теперь разберемся более подробно с логистической регрессией и добавим кое какие изменения в нее "
   ]
  },
  {
   "cell_type": "code",
   "execution_count": 67,
   "metadata": {},
   "outputs": [],
   "source": [
    "from sklearn.linear_model import Ridge\n",
    "from sklearn.metrics import mean_squared_error, r2_score"
   ]
  },
  {
   "cell_type": "code",
   "execution_count": 68,
   "metadata": {},
   "outputs": [
    {
     "data": {
      "text/plain": [
       "Ridge()"
      ]
     },
     "execution_count": 68,
     "metadata": {},
     "output_type": "execute_result"
    }
   ],
   "source": [
    "model = Ridge(alpha=1.0)  # Начните с alpha=1.0, затем настройте\n",
    "model.fit(X_train, y_train)"
   ]
  },
  {
   "cell_type": "code",
   "execution_count": 70,
   "metadata": {},
   "outputs": [],
   "source": [
    "y_pred_ridge = model.predict(X_test)\n",
    "df = pd.DataFrame(y_pred_ridge, columns=[\"medv\"])\n",
    "df.to_csv(\"output_2_ridge.csv\", index=False)"
   ]
  },
  {
   "cell_type": "markdown",
   "metadata": {},
   "source": [
    "Мы сделали L2-регуляризацию ( ridge), проведем так же L1-регуляризацию ( Lasso Regression ) и комбинация L1 и L2 (Elastic Net)"
   ]
  },
  {
   "cell_type": "code",
   "execution_count": null,
   "metadata": {},
   "outputs": [],
   "source": []
  }
 ],
 "metadata": {
  "kernelspec": {
   "display_name": "Python 3",
   "language": "python",
   "name": "python3"
  },
  "language_info": {
   "codemirror_mode": {
    "name": "ipython",
    "version": 3
   },
   "file_extension": ".py",
   "mimetype": "text/x-python",
   "name": "python",
   "nbconvert_exporter": "python",
   "pygments_lexer": "ipython3",
   "version": "3.7.6"
  }
 },
 "nbformat": 4,
 "nbformat_minor": 2
}
